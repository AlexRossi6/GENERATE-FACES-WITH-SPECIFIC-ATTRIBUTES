{
  "nbformat": 4,
  "nbformat_minor": 0,
  "metadata": {
    "colab": {
      "name": "FID.ipynb",
      "provenance": [],
      "collapsed_sections": []
    },
    "kernelspec": {
      "name": "python3",
      "display_name": "Python 3"
    },
    "accelerator": "GPU"
  },
  "cells": [
    {
      "cell_type": "code",
      "metadata": {
        "id": "tKitrhMFo44m",
        "colab_type": "code",
        "colab": {}
      },
      "source": [
        "#load data\n",
        "import numpy as np\n",
        "celeba = np.load('drive/My Drive/celeba.npy')"
      ],
      "execution_count": 1,
      "outputs": []
    },
    {
      "cell_type": "code",
      "metadata": {
        "id": "YsJbJ2CTpD0b",
        "colab_type": "code",
        "colab": {}
      },
      "source": [
        "#last 10k images as test set\n",
        "celeba_test = celeba[192599:202599]"
      ],
      "execution_count": 2,
      "outputs": []
    },
    {
      "cell_type": "code",
      "metadata": {
        "id": "xrqhODhLpG0w",
        "colab_type": "code",
        "colab": {}
      },
      "source": [
        "#rescale as 0 1\n",
        "celeba_test = (celeba_test-127.5)/127.5"
      ],
      "execution_count": 3,
      "outputs": []
    },
    {
      "cell_type": "code",
      "metadata": {
        "id": "Bce08pTspPHB",
        "colab_type": "code",
        "colab": {}
      },
      "source": [
        "from skimage.transform import resize\n",
        "import copy\n",
        "from numpy.random import randint\n",
        "from numpy import cov\n",
        "from numpy import trace\n",
        "from numpy import iscomplexobj\n",
        "from numpy.random import randn\n",
        "from scipy.linalg import sqrtm\n",
        "from keras.applications.inception_v3 import InceptionV3\n",
        "from keras.applications.inception_v3 import preprocess_input\n",
        "from tensorflow.keras.models import load_model\n",
        "\n",
        "\n"
      ],
      "execution_count": 10,
      "outputs": []
    },
    {
      "cell_type": "code",
      "metadata": {
        "id": "CDgUQLT4yxQY",
        "colab_type": "code",
        "colab": {}
      },
      "source": [
        "#RUN FOR GAN\n",
        "# generate points in latent space as input for the generator\n",
        "def generate_latent_points(latent_dimension, n_batch):\n",
        "  \n",
        "  # generate points in the latent space\n",
        "  lat_input = randn(latent_dimension * n_batch)\n",
        "  \n",
        "  # reshape into a batch of inputs for the network\n",
        "  lat_input = lat_input.reshape(n_batch, latent_dimension)\n",
        "  \n",
        "  return lat_input"
      ],
      "execution_count": 12,
      "outputs": []
    },
    {
      "cell_type": "code",
      "metadata": {
        "id": "SJx192_tzgZZ",
        "colab_type": "code",
        "colab": {}
      },
      "source": [
        "#RUN FOR CGAN\n",
        "attribute = np.loadtxt('drive/My Drive/list_attr_celeba.txt',skiprows=2,unpack=True,usecols=range(1,41))\n",
        "attribute = np.transpose(attribute)\n",
        "attribute[attribute==-1]=0\n",
        "\n",
        "\n",
        "# generate points in latent space as input for the generator\n",
        "def generate_latent_points(latent_dim,labels_dataset, n_samples, n_labels = 40):\n",
        "  \n",
        "  # generate points in the latent space\n",
        "  x_input = randn(latent_dim * n_samples)\n",
        "  \n",
        "  # reshape into a batch of inputs for the network\n",
        "  x_input = x_input.reshape(n_samples, latent_dim)\n",
        "\n",
        "  #select random labels from the dataset\n",
        "  idx = randint(0, labels_dataset.shape[0], n_samples)\n",
        "  labels = labels_dataset[idx]\n",
        "  \n",
        "  \n",
        "  return [x_input,labels]\n"
      ],
      "execution_count": 5,
      "outputs": []
    },
    {
      "cell_type": "code",
      "metadata": {
        "id": "isLrssW_u9Xi",
        "colab_type": "code",
        "colab": {}
      },
      "source": [
        "model = load_model('drive/My Drive/model/ACgenerator_model_040.h5')"
      ],
      "execution_count": null,
      "outputs": []
    },
    {
      "cell_type": "code",
      "metadata": {
        "id": "QmuU24DYugpb",
        "colab_type": "code",
        "colab": {}
      },
      "source": [
        "# compute frechet inception distance\n",
        "def compute_fid(act1, act2):\n",
        "  \n",
        "  # compute mean and covariance statistics\n",
        " \n",
        "   \n",
        "  mu1, sigma1 = act1.mean(axis=0), cov(act1, rowvar=False)\n",
        "  mu2, sigma2 = act2.mean(axis=0), cov(act2, rowvar=False)\n",
        "  \n",
        "  # calculate sum squared difference between means\n",
        "  ssdiff = np.sum((mu1 - mu2)**2.0)\n",
        "  \n",
        "  # calculate sqrt of product between cov\n",
        "  covmean = sqrtm(sigma1.dot(sigma2))\n",
        "  \n",
        "  # check and correct imaginary numbers from sqrt\n",
        "  if iscomplexobj(covmean):\n",
        "    covmean = covmean.real\n",
        "  \n",
        "  # calculate score\n",
        "  fid = ssdiff + trace(sigma1 + sigma2 - 2.0 * covmean)\n",
        "  return fid"
      ],
      "execution_count": 7,
      "outputs": []
    },
    {
      "cell_type": "code",
      "metadata": {
        "id": "p21szPXAubvY",
        "colab_type": "code",
        "colab": {}
      },
      "source": [
        "#compute activations of test set\n",
        "model2 = InceptionV3(include_top=False, pooling='avg', input_shape=(299,299,3))\n",
        "actreal = []\n",
        "for i in range(1000):\n",
        "  print(i)\n",
        "  temp = copy.deepcopy(celeba_test[i*10:((i*10)+10)])\n",
        "  \n",
        "  temp1 = np.array([resize(err,(299,299,3),1) for err in temp])\n",
        "  \n",
        "  temp1 = model2.predict(temp1)\n",
        "  \n",
        "  actreal.append(temp1)\n"
      ],
      "execution_count": null,
      "outputs": []
    },
    {
      "cell_type": "code",
      "metadata": {
        "id": "np4VmvyRuobi",
        "colab_type": "code",
        "colab": {}
      },
      "source": [
        "#RUN FOR GAN\n",
        "latent_dim = 100\n",
        "latent_points = generate_latent_points(latent_dim, 10000)\n",
        "\n",
        "# generate images\n",
        "fake = model.predict(latent_points)\n",
        "\n",
        "\n",
        "\n",
        "\n",
        " "
      ],
      "execution_count": null,
      "outputs": []
    },
    {
      "cell_type": "code",
      "metadata": {
        "id": "8O3D8Qs10Rxm",
        "colab_type": "code",
        "colab": {}
      },
      "source": [
        "#RUN FOR CGAN\n",
        "latent_dim = 100\n",
        "[latent_points,label_temp] = generate_latent_points(latent_dim,attribute,n_samples = 10000)\n",
        "\n",
        "# generate images\n",
        "fake = model.predict([latent_points,label_temp])\n",
        "\n"
      ],
      "execution_count": 11,
      "outputs": []
    },
    {
      "cell_type": "code",
      "metadata": {
        "id": "L-W-PlKU0PrW",
        "colab_type": "code",
        "colab": {}
      },
      "source": [
        "#compute activations of generated images\n",
        "actfake = []\n",
        "for i in range(1000):\n",
        "  print(i)\n",
        "  temp = copy.deepcopy(fake[i*10:((i*10)+10)])\n",
        "  \n",
        "  temp1 = np.array([resize(err,(299,299,3),1) for err in temp])\n",
        "  \n",
        "  temp1 = model2.predict(temp1)\n",
        "  \n",
        "  actfake.append(temp1)\n"
      ],
      "execution_count": null,
      "outputs": []
    },
    {
      "cell_type": "code",
      "metadata": {
        "id": "2X6AyYRBxvNi",
        "colab_type": "code",
        "colab": {
          "base_uri": "https://localhost:8080/",
          "height": 34
        },
        "outputId": "82afca64-a1ff-42d3-a636-95515a327734"
      },
      "source": [
        "#compute FID\n",
        "actreal = np.array(actreal)\n",
        "actfake = np.array(actfake)\n",
        "\n",
        "actreal = actreal.reshape((10000,2048))\n",
        "actfake = actfake.reshape((10000,2048))\n",
        "\n",
        "# fid between act1 and act2\n",
        "fid = compute_fid(actreal, actfake)\n",
        "print('FID: %.3f' % fid)"
      ],
      "execution_count": 13,
      "outputs": [
        {
          "output_type": "stream",
          "text": [
            "FID: 12.071\n"
          ],
          "name": "stdout"
        }
      ]
    },
    {
      "cell_type": "code",
      "metadata": {
        "id": "QZGMpUnc0rFN",
        "colab_type": "code",
        "colab": {}
      },
      "source": [
        ""
      ],
      "execution_count": null,
      "outputs": []
    }
  ]
}