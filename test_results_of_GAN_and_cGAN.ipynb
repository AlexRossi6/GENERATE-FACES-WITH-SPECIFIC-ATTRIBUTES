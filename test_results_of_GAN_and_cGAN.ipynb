{
 "cells": [
  {
   "cell_type": "code",
   "execution_count": 2,
   "metadata": {
    "colab": {},
    "colab_type": "code",
    "id": "oUJpWQ4r7Mlx"
   },
   "outputs": [],
   "source": [
    "#load attributes\n",
    "import numpy as np\n",
    "attribute = np.loadtxt('list_attr_celeba.txt',skiprows=2,unpack=True,usecols=range(1,41))\n",
    "attribute = np.transpose(attribute)\n",
    "attribute[attribute==-1]=0"
   ]
  },
  {
   "cell_type": "code",
   "execution_count": 5,
   "metadata": {
    "colab": {},
    "colab_type": "code",
    "id": "LB2RxcMV7OQk"
   },
   "outputs": [],
   "source": [
    "\n",
    "# generate points in latent space as input for the generator\n",
    "def generate_latent_points(latent_dimension, n_batch):\n",
    "  \n",
    "  # generate points in the latent space\n",
    "  lat_input = randn(latent_dimension * n_batch)\n",
    "  \n",
    "  # reshape into a batch of inputs for the network\n",
    "  lat_input = lat_input.reshape(n_batch, latent_dimension)\n",
    "  \n",
    "  return lat_input\n",
    "\n",
    "\n",
    "def generate_latent_points2(latent_dim,label, n_samples):\n",
    "  # generate points in the latent space\n",
    "  x_input = np.random.randn(latent_dim * n_samples)\n",
    "  # reshape into a batch of inputs for the network\n",
    "  x_input = x_input.reshape(n_samples, latent_dim)\n",
    "  \n",
    "  labels = np.tile(label,(n_samples,1))\n",
    "  \n",
    "  #labels = np.random.randint(2, size=(n_samples,n_labels))\n",
    "  return x_input,labels"
   ]
  },
  {
   "cell_type": "code",
   "execution_count": 1,
   "metadata": {
    "colab": {},
    "colab_type": "code",
    "id": "LKLVmpjs7KfY",
    "scrolled": true
   },
   "outputs": [],
   "source": [
    "from tensorflow.keras.models import load_model\n",
    "\n",
    "gan = load_model('gan.h5')\n",
    "cgan = load_model('cgan.h5')"
   ]
  },
  {
   "cell_type": "code",
   "execution_count": null,
   "metadata": {
    "colab": {},
    "colab_type": "code",
    "id": "HdXVs8Rp8rFZ"
   },
   "outputs": [],
   "source": [
    "#GAN\n",
    "from matplotlib import pyplot\n",
    "\n",
    "# create a plot of n*n generated images\n",
    "latent_dim = 100\n",
    "def plot_generated(examples, n):\n",
    "  # plot images\n",
    "  for i in range(n * n):\n",
    "    # define subplot\n",
    "    pyplot.subplot(n, n, 1 + i)\n",
    "    # turn off axis\n",
    "    pyplot.axis('off')\n",
    "    # plot raw pixel data\n",
    "    pyplot.imshow(examples[i, :, :])\n",
    "    pyplot.show()\n",
    "\n",
    "# generate images\n",
    "latent_points = generate_latent_points(latent_dim, 25)\n",
    "# generate images\n",
    "X = gan.predict(latent_points)\n",
    "# scale from [-1,1] to [0,1]\n",
    "X = (X + 1) / 2.0\n",
    "# plot the result\n",
    "plot_generated(X, 5)"
   ]
  },
  {
   "cell_type": "code",
   "execution_count": null,
   "metadata": {
    "colab": {},
    "colab_type": "code",
    "id": "GoJf-slm85Zc"
   },
   "outputs": [],
   "source": [
    "#CGAN\n",
    "\n",
    "#old man with grey hair and eyeglasses\n",
    "\n",
    "latent_dim = 100\n",
    "b = attribute[1100]\n",
    "\n",
    "latent_points,labels = generate_latent_points2(latent_dim,b,25)\n",
    "\n",
    "# generate images\n",
    "X = cgan.predict([latent_points, labels])\n",
    "# scale from [-1,1] to [0,1]\n",
    "X = (X + 1) / 2.0\n",
    "# plot the result\n",
    "plot_generated(X, 5)\n"
   ]
  },
  {
   "cell_type": "code",
   "execution_count": null,
   "metadata": {
    "colab": {},
    "colab_type": "code",
    "id": "aTNxhxrr-8OH"
   },
   "outputs": [],
   "source": [
    "#CGAN\n",
    "\n",
    "#young attractive man with black hair\n",
    "\n",
    "latent_dim = 100\n",
    "b = attribute[2300]\n",
    "\n",
    "\n",
    "latent_points,labels = generate_latent_points2(latent_dim,b,25)\n",
    "\n",
    "# generate images\n",
    "X = cgan.predict([latent_points, labels])\n",
    "# scale from [-1,1] to [0,1]\n",
    "X = (X + 1) / 2.0\n",
    "# plot the result\n",
    "plot_generated(X, 5)"
   ]
  },
  {
   "cell_type": "code",
   "execution_count": null,
   "metadata": {
    "colab": {},
    "colab_type": "code",
    "id": "t2G4EswuAVSt"
   },
   "outputs": [],
   "source": [
    "#CGAN\n",
    "\n",
    "#young attractive woman with blonde hair\n",
    "\n",
    "latent_dim = 100\n",
    "b = attribute[3100]\n",
    "\n",
    "\n",
    "latent_points,labels = generate_latent_points2(latent_dim,b,25)\n",
    "\n",
    "# generate images\n",
    "X = cgan.predict([latent_points, labels])\n",
    "# scale from [-1,1] to [0,1]\n",
    "X = (X + 1) / 2.0\n",
    "# plot the result\n",
    "plot_generated(X, 5)"
   ]
  },
  {
   "cell_type": "code",
   "execution_count": null,
   "metadata": {
    "colab": {},
    "colab_type": "code",
    "id": "DhMYW8XTAWiC"
   },
   "outputs": [],
   "source": []
  }
 ],
 "metadata": {
  "colab": {
   "collapsed_sections": [],
   "name": "test GAN and cGAN.ipynb",
   "provenance": []
  },
  "kernelspec": {
   "display_name": "Python 3",
   "language": "python",
   "name": "python3"
  },
  "language_info": {
   "codemirror_mode": {
    "name": "ipython",
    "version": 3
   },
   "file_extension": ".py",
   "mimetype": "text/x-python",
   "name": "python",
   "nbconvert_exporter": "python",
   "pygments_lexer": "ipython3",
   "version": "3.8.1"
  }
 },
 "nbformat": 4,
 "nbformat_minor": 1
}
